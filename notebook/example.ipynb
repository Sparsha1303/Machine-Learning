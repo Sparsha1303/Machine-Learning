{
 "cells": [
  {
   "cell_type": "code",
   "execution_count": 2,
   "metadata": {},
   "outputs": [],
   "source": [
    "from collections import namedtuple"
   ]
  },
  {
   "cell_type": "markdown",
   "metadata": {},
   "source": [
    "1. Download url\n",
    "2. Download  folder (compressed file)\n",
    "3. "
   ]
  },
  {
   "cell_type": "code",
   "execution_count": 5,
   "metadata": {},
   "outputs": [],
   "source": [
    "DataIngestionConfig = namedtuple('DataIngestionConfig', ['dataset_download_url', 'tgz_download_url', 'raw_data_dir', 'ingested_train_dir', 'ingested_test_dir'])"
   ]
  },
  {
   "cell_type": "code",
   "execution_count": 7,
   "metadata": {},
   "outputs": [],
   "source": [
    "data_ingestion_config = DataIngestionConfig(dataset_download_url=\"jjjj\",\n",
    "tgz_download_url = \"https://www.cs.toronto.edu/~kriz/cifar-10-python.tar.gz\",\n",
    "raw_data_dir = \"data/raw\",\n",
    "ingested_train_dir = \"data/ingested/train\" ,\n",
    "ingested_test_dir = \"data/ingested/test\" ,\n",
    ")\n"
   ]
  },
  {
   "cell_type": "code",
   "execution_count": 8,
   "metadata": {},
   "outputs": [
    {
     "data": {
      "text/plain": [
       "DataIngestionConfig(dataset_download_url='jjjj', tgz_download_url='https://www.cs.toronto.edu/~kriz/cifar-10-python.tar.gz', raw_data_dir='data/raw', ingested_train_dir='data/ingested/train', ingested_test_dir='data/ingested/test')"
      ]
     },
     "execution_count": 8,
     "metadata": {},
     "output_type": "execute_result"
    }
   ],
   "source": [
    "data_ingestion_config"
   ]
  },
  {
   "cell_type": "code",
   "execution_count": null,
   "metadata": {},
   "outputs": [],
   "source": []
  }
 ],
 "metadata": {
  "kernelspec": {
   "display_name": "Python 3",
   "language": "python",
   "name": "python3"
  },
  "language_info": {
   "codemirror_mode": {
    "name": "ipython",
    "version": 3
   },
   "file_extension": ".py",
   "mimetype": "text/x-python",
   "name": "python",
   "nbconvert_exporter": "python",
   "pygments_lexer": "ipython3",
   "version": "3.11.8"
  }
 },
 "nbformat": 4,
 "nbformat_minor": 2
}
